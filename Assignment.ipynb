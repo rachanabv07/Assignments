{
 "cells": [
  {
   "cell_type": "markdown",
   "id": "c560e451",
   "metadata": {},
   "source": [
    "#### Question 1\n",
    "* Randomly pick fraction of x and return it."
   ]
  },
  {
   "cell_type": "code",
   "execution_count": 11,
   "id": "a3d14ea6",
   "metadata": {},
   "outputs": [],
   "source": [
    "import random\n",
    "def sample(x, fraction):\n",
    "    shuffle_x = []\n",
    "    for i in range(len(x)+50):\n",
    "        \n",
    "        #Randomly picking x\n",
    "        ran = int(random.random()*len(x))\n",
    "        num = x[ran]\n",
    "        #print(\"num: \", num)\n",
    "        \n",
    "        if num not in shuffle_x:\n",
    "            shuffle_x.append(num)\n",
    "        else:\n",
    "            continue\n",
    "        if len(shuffle_x) == len(x):\n",
    "            break\n",
    "        else:\n",
    "            continue\n",
    "    #spliting the arr according to fraction         \n",
    "    size_arr = int(len(shuffle_x)*fraction)\n",
    "    \n",
    "    first_arr = shuffle_x[size_arr:] \n",
    "    second_arr=shuffle_x[:size_arr]\n",
    "    \n",
    "    sample_of_x = (first_arr , second_arr)\n",
    "    return sample_of_x"
   ]
  },
  {
   "cell_type": "code",
   "execution_count": 12,
   "id": "76fba2a9",
   "metadata": {},
   "outputs": [
    {
     "data": {
      "text/plain": [
       "([8, 9, 4, 7, 1, 6, 10, 3], [5, 2])"
      ]
     },
     "execution_count": 12,
     "metadata": {},
     "output_type": "execute_result"
    }
   ],
   "source": [
    "x = [1,2,3,4,5,6,7,8,9,10]\n",
    "sample(x, 0.2)"
   ]
  },
  {
   "cell_type": "markdown",
   "id": "1e177e42",
   "metadata": {},
   "source": [
    "#### Question 2\n",
    "\n",
    "* use gradient descent to find x."
   ]
  },
  {
   "cell_type": "code",
   "execution_count": 10,
   "id": "abf935ab",
   "metadata": {},
   "outputs": [
    {
     "name": "stdout",
     "output_type": "stream",
     "text": [
      "The value of x is: 2.4999996650620915\n"
     ]
    }
   ],
   "source": [
    "def f(x):\n",
    "    return x*x - 5*x + 8\n",
    "\n",
    "def gradient_descent():\n",
    "    x = 0\n",
    "    learning_rate = 0.01\n",
    "    num_iter = 1000\n",
    "    ep = 0.000000001\n",
    "    \n",
    "    for i in range(num_iter):\n",
    "        \n",
    "        diffp = (f(x + ep) - f(x)) / ep\n",
    "        \n",
    "        x = x - learning_rate * diffp\n",
    "        \n",
    "        if abs(learning_rate * diffp) < ep:\n",
    "            break\n",
    "        \n",
    "    return x\n",
    "\n",
    "\n",
    "result = gradient_descent()\n",
    "\n",
    "print(\"The value of x is:\", result)"
   ]
  },
  {
   "cell_type": "code",
   "execution_count": null,
   "id": "ab0b299e",
   "metadata": {},
   "outputs": [],
   "source": []
  }
 ],
 "metadata": {
  "kernelspec": {
   "display_name": "Python 3 (ipykernel)",
   "language": "python",
   "name": "python3"
  },
  "language_info": {
   "codemirror_mode": {
    "name": "ipython",
    "version": 3
   },
   "file_extension": ".py",
   "mimetype": "text/x-python",
   "name": "python",
   "nbconvert_exporter": "python",
   "pygments_lexer": "ipython3",
   "version": "3.9.13"
  }
 },
 "nbformat": 4,
 "nbformat_minor": 5
}
